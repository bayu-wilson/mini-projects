{
 "cells": [
  {
   "cell_type": "markdown",
   "id": "380e125e-6d68-496d-9074-f9860805929f",
   "metadata": {
    "tags": []
   },
   "source": [
    "# Neural Networks from scratch\n",
    "\n",
    "https://www.youtube.com/watch?v=Wo5dMEP_BbI"
   ]
  },
  {
   "cell_type": "markdown",
   "id": "b5a89b82-78d7-4bbb-837b-ef4144759a7d",
   "metadata": {
    "tags": []
   },
   "source": [
    "### P.1 Intro and Neuron Code\n",
    "\n",
    "We call them neural networks because they look, visually, like neural networks. The neurons have different layers. In the video, there is an input layer, two hidden layers, and an output layer.\n",
    "\n",
    "The end goal of neural networks, like most machine learning, is to take some input data and produce output data that we desire. We can do this by tuning the weights and biases. That is the actual training process. The number of biases is the same as the number of nodes (sum of nodes from each layer combined). A node in one layer is connected to nodes in the next layer by weights. The number of weights is the number of biases in one layer times the number of biases in the next layer plus the same thing for the next layer etc. So the total number of tunable parameters is the number of weights and biases. This ends up being a huge number.\n",
    "\n",
    "The hard part of neural networks and deep learning is figuring out how to tune it.\n"
   ]
  },
  {
   "cell_type": "code",
   "execution_count": 1,
   "id": "43e314c6-f01a-49be-a251-bd7f7ec99457",
   "metadata": {},
   "outputs": [
    {
     "name": "stdout",
     "output_type": "stream",
     "text": [
      "Python:  3.10.8 | packaged by conda-forge | (main, Nov 22 2022, 08:25:29) [Clang 14.0.6 ]\n",
      "Numpy:  1.24.1\n",
      "Matplotlib:  3.6.2\n"
     ]
    }
   ],
   "source": [
    "import sys\n",
    "import numpy as np\n",
    "import matplotlib\n",
    "print(\"Python: \",sys.version)\n",
    "print(\"Numpy: \", np.__version__)\n",
    "print(\"Matplotlib: \", matplotlib.__version__)"
   ]
  },
  {
   "cell_type": "code",
   "execution_count": 2,
   "id": "cb67d7c0-95a1-46e5-896a-5135d6ea9276",
   "metadata": {},
   "outputs": [
    {
     "name": "stdout",
     "output_type": "stream",
     "text": [
      "[4.8, 1.21, 2.385]\n"
     ]
    }
   ],
   "source": [
    "inputs = [1,2,3,2.5] #unique inputs from three neurons in the previous layer\n",
    "\n",
    "weights1 = [0.2,0.8,-0.5,1.0] \n",
    "weights2 = [0.5, -0.91, 0.26, -0.5] \n",
    "weights3 = [-0.26, -0.27, 0.17, 0.87] \n",
    "\n",
    "bias1 = 2 #every unique neuron has a unique bias\n",
    "bias2 = 3\n",
    "bias3 = 0.5\n",
    "\n",
    "output = \\\n",
    "[inputs[0]*weights1[0]+inputs[1]*weights1[1]+inputs[2]*weights1[2]+inputs[3]*weights1[3]+bias1,\n",
    " inputs[0]*weights2[0]+inputs[1]*weights2[1]+inputs[2]*weights2[2]+inputs[3]*weights2[3]+bias2,\n",
    " inputs[0]*weights3[0]+inputs[1]*weights3[1]+inputs[2]*weights3[2]+inputs[3]*weights3[3]+bias3]\n",
    "print(output)"
   ]
  },
  {
   "cell_type": "markdown",
   "id": "1c888093-207d-411f-8ef1-70da52cafa27",
   "metadata": {},
   "source": [
    "Why is there only one bias? The inputs are only going into one node. 3 inputs means 3 weights but every neuron has just one bias."
   ]
  },
  {
   "cell_type": "markdown",
   "id": "c85cc7eb-fd78-4ed7-8d57-0cfe8b54ca98",
   "metadata": {},
   "source": [
    "### Part 3. The dot product\n",
    "\n",
    "zip combines lists into list of lists, element-wise"
   ]
  },
  {
   "cell_type": "code",
   "execution_count": 3,
   "id": "335bf84c-0f47-458b-a8df-7a293c972670",
   "metadata": {},
   "outputs": [
    {
     "data": {
      "text/plain": [
       "((3, 4), (3,))"
      ]
     },
     "execution_count": 3,
     "metadata": {},
     "output_type": "execute_result"
    }
   ],
   "source": [
    "weights = [weights1,weights2,weights3] \n",
    "biases = [bias1,bias2,bias3]\n",
    "np.shape(weights),np.shape(biases)"
   ]
  },
  {
   "cell_type": "code",
   "execution_count": 4,
   "id": "2046a26c-0811-43d3-bac8-151a05dadb67",
   "metadata": {},
   "outputs": [
    {
     "name": "stdout",
     "output_type": "stream",
     "text": [
      "[4.8, 1.21, 2.385]\n"
     ]
    }
   ],
   "source": [
    "layer_outputs = [] #output of current layer\n",
    "for neuron_weights, neuron_bias in zip(weights, biases):\n",
    "    neuron_output = 0 #output of given neuron\n",
    "    for n_input, weight in zip(inputs, neuron_weights):\n",
    "        neuron_output += n_input*weight\n",
    "    neuron_output += neuron_bias\n",
    "    layer_outputs.append(neuron_output)\n",
    "print(layer_outputs)"
   ]
  },
  {
   "cell_type": "markdown",
   "id": "3187b3bf-b3f6-47e6-b25d-cc2384a298e3",
   "metadata": {},
   "source": [
    "Weights and biases are the things that are tuned to fit the data. "
   ]
  },
  {
   "cell_type": "code",
   "execution_count": 5,
   "id": "1aab8b67-5aed-4caf-9db2-12ea01f31b95",
   "metadata": {},
   "outputs": [
    {
     "name": "stdout",
     "output_type": "stream",
     "text": [
      "-0.35\n",
      "0.19999999999999996\n"
     ]
    }
   ],
   "source": [
    "some_values = -0.5\n",
    "weight = 0.7\n",
    "bias = 0.7\n",
    "print(some_values*weight) #weight was a multiple of the value\n",
    "print(some_values+bias)   #bias has offset the value\n",
    "#like y=mx+b, b is bias, m is weight, they are two tools that help in different ways"
   ]
  },
  {
   "cell_type": "markdown",
   "id": "a58a3a4d-dfd8-42e8-8fac-3865b376b667",
   "metadata": {},
   "source": [
    "A tensor is an object that can be represented as an array. It is not just an array. A tensor is represented by an array."
   ]
  },
  {
   "cell_type": "code",
   "execution_count": 6,
   "id": "4de0a354-be94-4a2b-9370-d69569904598",
   "metadata": {},
   "outputs": [
    {
     "data": {
      "text/plain": [
       "array([4.8  , 1.21 , 2.385])"
      ]
     },
     "execution_count": 6,
     "metadata": {},
     "output_type": "execute_result"
    }
   ],
   "source": [
    "inputs = [1,2,3,2.5]\n",
    "weights = [weights1,weights2,weights3] \n",
    "biases = [bias1,bias2,bias3]\n",
    "np.dot(weights,inputs)+biases"
   ]
  },
  {
   "cell_type": "markdown",
   "id": "6dca17fd-8e9f-4fd2-b0db-b8225da4e236",
   "metadata": {},
   "source": [
    "### part 4: Batches, layer, and objects\n",
    "\n",
    "Batchesare used because we can calculate them in parallel. The bigger the batch, the more parallel operations we can run. CPUs only have like 4-8 cores. That's not very much. GPUs have hundreds/thousands of cores. The other reason we use batches is to help with generalizations.\n",
    "\n",
    "The size of the batch helps each neuron fit the data. Batch size 32 seems pretty common."
   ]
  },
  {
   "cell_type": "code",
   "execution_count": 7,
   "id": "bec69aed-b613-4ca3-afa4-2bfaa1241a6d",
   "metadata": {},
   "outputs": [
    {
     "data": {
      "text/plain": [
       "array([[ 0.5031 , -1.04185, -2.03875],\n",
       "       [ 0.2434 , -2.7332 , -5.7633 ],\n",
       "       [-0.99314,  1.41254, -0.35655]])"
      ]
     },
     "execution_count": 7,
     "metadata": {},
     "output_type": "execute_result"
    }
   ],
   "source": [
    "inputs = np.array([[1,2,3,2.5],\n",
    "         [2.0,5.0,-1.0,2.0],\n",
    "         [-1.5,2.7,3.3,-0.8]])\n",
    "weights = np.array([weights1,weights2,weights3])\n",
    "biases = [bias1,bias2,bias3]\n",
    "\n",
    "weights_layer2 = np.array([[0.1,-0.14,0.5],\n",
    "                            [-0.5,0.12,-0.33],\n",
    "                            [-0.44,0.73,-0.13]])\n",
    "biases_layer2 = np.array([-1,2,-0.5])\n",
    "\n",
    "layer1_outputs = np.dot(inputs,weights.T)+biases\n",
    "layer2_outputs = np.dot(layer1_outputs,weights_layer2.T)+biases_layer2\n",
    "layer2_outputs"
   ]
  },
  {
   "cell_type": "markdown",
   "id": "c952377d-d2f4-4f64-8b14-c36678d953ca",
   "metadata": {},
   "source": [
    "In matrix multiplications,\n",
    "$$ Z = XY $$\n",
    "\n",
    "If shape of X is [n,m], the shape of Y must be [m,l]"
   ]
  },
  {
   "cell_type": "markdown",
   "id": "e559a716-d42e-4315-adc1-9d613e2e2d01",
   "metadata": {},
   "source": [
    "When you save a model, you are just saving the weights and biases"
   ]
  },
  {
   "cell_type": "code",
   "execution_count": 8,
   "id": "b0d16a1a-9e08-432f-8410-0f5537980589",
   "metadata": {},
   "outputs": [
    {
     "name": "stdout",
     "output_type": "stream",
     "text": [
      "[[ 0.10758131  1.03983522  0.24462411  0.31821498  0.18851053]\n",
      " [-0.08349796  0.70846411  0.00293357  0.44701525  0.36360538]\n",
      " [-0.50763245  0.55688422  0.07987797 -0.34889573  0.04553042]]\n",
      "[[ 0.148296   -0.08397602]\n",
      " [ 0.14100315 -0.01340469]\n",
      " [ 0.20124979 -0.07290616]]\n"
     ]
    }
   ],
   "source": [
    "np.random.seed(0)\n",
    "\n",
    "X = np.array([[1,2,3,2.5],\n",
    "             [2.0,5.0,-1.0,2.0],\n",
    "             [-1.5,2.7,3.3,-0.8]])\n",
    "\n",
    "class Layer_Dense:\n",
    "    def __init__(self, n_inputs, n_neurons):\n",
    "        self.weights = 0.1*np.random.randn(n_inputs,n_neurons)\n",
    "        self.biases = np.zeros((1, n_neurons))\n",
    "    def forward(self,inputs):\n",
    "        self.output = np.dot(inputs,self.weights) + self.biases\n",
    "layer1 = Layer_Dense(4,5) #four inputs and 5 neurons\n",
    "layer1.forward(X) #four inputs. Can have any number of neurons.\n",
    "print(layer1.output)\n",
    "\n",
    "layer2 = Layer_Dense(5,2) # 5 inputs and 2 neurons. Must have same # of inputs as neurons in prev. layer\n",
    "layer2.forward(layer1.output) \n",
    "print(layer2.output)"
   ]
  },
  {
   "cell_type": "markdown",
   "id": "2224237f-818e-4fa3-83be-a1ed2c189cec",
   "metadata": {},
   "source": [
    "## Part 5 Activiation function\n",
    "\n",
    "What are they and why are we using them. First we will use a step function as the activation function. Each neuron will have an activation function associated. It comes into play after you do the inputs times the weights plus the bias. The step function will be either 0 or 1.\n",
    "\n",
    "What about a sigmoid activation function? $y=\\frac{1}{1+e^{-x}}$. It's a little easier to train a NN with the sigmoid due to the granularity (smoother?) of the output. The next steps would to be to calculate loss... how wrong is the neural network. Then an optimizer could be use to optimize the weights and bias values to decrease loss. We would need to know the impact of these weights and biases on these individual values. \n",
    "\n",
    "Another option is the rectified linear activation (ReLU) function. The output can be granular. Why use ReLU vs sigmoid? ReLU is simpler and so faster. It also just works. This is the most popular activation function.\n",
    "\n",
    "What is the point of an activation function? Without it, you can't fit non-linear things. ReLU is almost linear, but the rectified part is exatly what makes it powerful and able to fit non-linear data.\n",
    "\n",
    "In order to fit non-linear problems with neural networds, you need two or more hidden layers. And with those layers, you can use non-linear activation functions."
   ]
  },
  {
   "cell_type": "code",
   "execution_count": 9,
   "id": "47ff04c2-662e-4936-80da-44b14ee61a73",
   "metadata": {},
   "outputs": [
    {
     "data": {
      "text/plain": [
       "[0, 2, 0, 3.3, 0, 1.1, 2.2, 0]"
      ]
     },
     "execution_count": 9,
     "metadata": {},
     "output_type": "execute_result"
    }
   ],
   "source": [
    "np.random.seed(0)\n",
    "\n",
    "X = np.array([[1,2,3,2.5],\n",
    "             [2.0,5.0,-1.0,2.0],\n",
    "             [-1.5,2.7,3.3,-0.8]])\n",
    "\n",
    "inputs = [0,2,-1,3.3,-2.7,1.1,2.2,-100]\n",
    "output = []\n",
    "\n",
    "for i in inputs:\n",
    "    output.append(max(0,i))\n",
    "    # if i >0:\n",
    "    #     output.append(i)\n",
    "    # elif i<=0:\n",
    "    #     output.append(0)\n",
    "output"
   ]
  },
  {
   "cell_type": "code",
   "execution_count": 36,
   "id": "edab3b93-1d13-4bf6-b867-e30147cf1483",
   "metadata": {},
   "outputs": [
    {
     "name": "stdout",
     "output_type": "stream",
     "text": [
      "[[0.00000000e+00 0.00000000e+00 0.00000000e+00 0.00000000e+00\n",
      "  0.00000000e+00]\n",
      " [0.00000000e+00 0.00000000e+00 0.00000000e+00 4.65504505e-04\n",
      "  4.56846210e-05]\n",
      " [0.00000000e+00 5.93469958e-05 0.00000000e+00 2.03573116e-04\n",
      "  6.10024377e-04]\n",
      " ...\n",
      " [1.13291524e-01 0.00000000e+00 0.00000000e+00 8.11079666e-02\n",
      "  0.00000000e+00]\n",
      " [1.34588361e-01 0.00000000e+00 3.09493970e-02 5.66337556e-02\n",
      "  0.00000000e+00]\n",
      " [1.07817926e-01 0.00000000e+00 0.00000000e+00 8.72561932e-02\n",
      "  0.00000000e+00]]\n"
     ]
    }
   ],
   "source": [
    "import nnfs\n",
    "from nnfs.datasets import spiral_data\n",
    "\n",
    "nnfs.init()\n",
    "\n",
    "# X = np.array([[1,2,3,2.5],\n",
    "#              [2.0,5.0,-1.0,2.0],\n",
    "#              [-1.5,2.7,3.3,-0.8]])\n",
    "X,y = spiral_data(100,3)\n",
    "\n",
    "class Layer_Dense:\n",
    "    def __init__(self, n_inputs, n_neurons):\n",
    "        self.weights = 0.1*np.random.randn(n_inputs,n_neurons)\n",
    "        self.biases = np.zeros((1, n_neurons))\n",
    "    def forward(self,inputs):\n",
    "        self.output = np.dot(inputs,self.weights) + self.biases\n",
    "        \n",
    "class Activation_ReLU:\n",
    "    def forward(self, inputs):\n",
    "        self.output = np.maximum(0,inputs)\n",
    "        \n",
    "layer1 = Layer_Dense(2,5) #2 unique features decribe the results\n",
    "activation1 = Activation_ReLU()\n",
    "layer1.forward(X)\n",
    "activation1.forward(layer1.output)\n",
    "print(activation1.output)"
   ]
  },
  {
   "cell_type": "markdown",
   "id": "d598181c-4d58-4a43-8ab5-621120afb52a",
   "metadata": {},
   "source": [
    "### Neural Networks from Scratch - P.6 Softmax Activation\n",
    "\n",
    "Why are we using another activiation function?\n",
    "\n",
    "The first step in training a model is determining how wrong the model is. Accuracy isn't the best way to do this. \n",
    "\n",
    "Consider, what is our objective here. Maybe a probability distribution of image classification. We want uniformity between sample to sample and normalized from neuron to neuron. Then we can calculate rightness and wrongness. How do we get to that point though.\n",
    "\n",
    "The problem with ReLU is because normalization doesn't work for negative numbers. Absolute values or squaring isn't a good option either.\n",
    "\n",
    "One thing to try is using an exponential function: $y = e^x$. No value of y can be negative.\n",
    "\n",
    "SOFTMAX IS JUST EXPONENTIAL AND THEN NORMALIZATION"
   ]
  },
  {
   "cell_type": "code",
   "execution_count": 60,
   "id": "8bfde34e-3117-4b7b-9d8d-e13e05108ab4",
   "metadata": {},
   "outputs": [],
   "source": [
    "import numpy as np\n",
    "layer_outputs = [[4.8, 1.21, 2.385],\n",
    "                 [8.9, -1.81, 0.2],\n",
    "                 [1.41, 1.051, 0.026]]\n",
    "exp_values = np.exp(layer_outputs) \n",
    "# norm_values = np.sum(exp_values,axis=1) #axis0 is columns, axis 1 is rows\n",
    "# kinda dumb option (exp_values.T/norm_values).T\n",
    "norm_values = np.sum(exp_values,axis=1, keepdims=True) #keep in \"batch\" form"
   ]
  },
  {
   "cell_type": "code",
   "execution_count": 62,
   "id": "4978abd1-87b8-47eb-962e-cdaa72f4d0dd",
   "metadata": {},
   "outputs": [
    {
     "data": {
      "text/plain": [
       "array([[8.95282664e-01, 2.47083068e-02, 8.00090293e-02],\n",
       "       [9.99811129e-01, 2.23163963e-05, 1.66554348e-04],\n",
       "       [5.13097164e-01, 3.58333899e-01, 1.28568936e-01]])"
      ]
     },
     "execution_count": 62,
     "metadata": {},
     "output_type": "execute_result"
    }
   ],
   "source": [
    "exp_values/norm_values #this is better"
   ]
  },
  {
   "cell_type": "markdown",
   "id": "958ed2f4-7aa8-46e5-8a1f-372eaf1a94a6",
   "metadata": {},
   "source": [
    "But exponential function will cause an overflow error if number is big enough\n",
    "\n",
    "#### Overflow prevention\n",
    "\n",
    "$v = u - max(u)$"
   ]
  },
  {
   "cell_type": "code",
   "execution_count": 86,
   "id": "d2023a1a-d27a-4c2c-af6a-b6325b268fd1",
   "metadata": {},
   "outputs": [
    {
     "name": "stdout",
     "output_type": "stream",
     "text": [
      "[[0.33333334 0.33333334 0.33333334]\n",
      " [0.33331734 0.33331832 0.33336434]\n",
      " [0.3332888  0.33329153 0.33341965]\n",
      " [0.33325943 0.33326396 0.33347666]\n",
      " [0.33323312 0.33323926 0.33352762]]\n"
     ]
    }
   ],
   "source": [
    "import nnfs\n",
    "from nnfs.datasets import spiral_data\n",
    "nnfs.init()\n",
    "\n",
    "class Layer_Dense:\n",
    "    def __init__(self, n_inputs, n_neurons):\n",
    "        self.weights = 0.10*np.random.randn(n_inputs,n_neurons)\n",
    "        self.biases = np.zeros((1, n_neurons))\n",
    "    def forward(self,inputs):\n",
    "        self.output = np.dot(inputs,self.weights) + self.biases\n",
    "        \n",
    "class Activation_ReLU:\n",
    "    def forward(self, inputs):\n",
    "        self.output = np.maximum(0,inputs)      \n",
    "        \n",
    "class Activation_Softmax:\n",
    "    def forward(self, inputs):\n",
    "        exp_values = np.exp(inputs - np.max(inputs,axis=1,keepdims=True))\n",
    "        probabilities = exp_values/np.sum(exp_values,axis=1,keepdims=True)\n",
    "        self.output = probabilities\n",
    "        \n",
    "X,y = spiral_data(samples=100, classes=3)\n",
    "\n",
    "dense1 = Layer_Dense(2,3)\n",
    "activation1 = Activation_ReLU()\n",
    "\n",
    "dense2 = Layer_Dense(3,3)\n",
    "activation2 = Activation_Softmax()\n",
    "\n",
    "dense1.forward(X)\n",
    "activation1.forward(dense1.output)\n",
    "\n",
    "dense2.forward(activation1.output)\n",
    "activation2.forward(dense2.output)\n",
    "\n",
    "print(activation2.output[:5])"
   ]
  },
  {
   "cell_type": "code",
   "execution_count": 84,
   "id": "5ee19b0d-658d-4282-b687-c96fea3863a5",
   "metadata": {},
   "outputs": [
    {
     "data": {
      "text/plain": [
       "<matplotlib.collections.PathCollection at 0x154830220>"
      ]
     },
     "execution_count": 84,
     "metadata": {},
     "output_type": "execute_result"
    },
    {
     "data": {
      "image/png": "[encoded data removed]",
      "text/plain": [
       "<Figure size 432x432 with 1 Axes>"
      ]
     },
     "metadata": {
      "needs_background": "light"
     },
     "output_type": "display_data"
    }
   ],
   "source": [
    "import matplotlib.pyplot as plt\n",
    "fig, ax = plt.subplots(figsize=(6, 6))\n",
    "ax.scatter(X.T[0], X.T[1], c=y)"
   ]
  },
  {
   "cell_type": "markdown",
   "id": "85e3e9b6-1455-4b90-8305-e4b896cde5de",
   "metadata": {},
   "source": [
    "### Neural Networks from Scratch - P.7 Calculating Loss with Categorical Cross-Entropy\n",
    "\n",
    "Now we need to way to calculate how wrong things are. This is before backpropagation and optimization.\n",
    "\n",
    "We need a metric for error. Accuracy isn't good. We are throwing away a lot of useful information. The neural network outputs a confidence score. \n",
    "\n",
    "We can use a loss function to quantify how wrong the model is. One example is mean absolute error. It is used in regression. The closer you are to the target data, the smaller the mean absolute error. \n",
    "\n",
    "The loss function of choice for classification is categorical cross-Entropy.\n",
    "\n",
    "$$ L_i = -\\Sigma_j y_{i,j} log(\\hat y_{i,j})$$\n",
    "\n",
    "where Li is sample loss value, i is ith sample in a set, j is the label/output index, y=target values, yhat it predicted values. This is the negative sum of the target value times the log of predicted value.\n",
    "\n",
    "One hot encoding let's us do this:\n",
    "\n",
    "$$ L_i = -log(\\hat y_{i,j})$$\n",
    "\n",
    "This works and is convenient in back propagation and optimization steps.\n",
    "\n",
    "This is using the natural logarithm. Log base e.\n"
   ]
  },
  {
   "cell_type": "code",
   "execution_count": 102,
   "id": "d9261911-6dcc-4126-900f-d08633d0ede6",
   "metadata": {},
   "outputs": [
    {
     "data": {
      "text/plain": [
       "0.35667494393873245"
      ]
     },
     "execution_count": 102,
     "metadata": {},
     "output_type": "execute_result"
    }
   ],
   "source": [
    "import math\n",
    "\n",
    "softmax_output = [0.7,0.1,0.2]\n",
    "target_output = [1,0,0]\n",
    "\n",
    "loss = - math.log(softmax_output[0])*target_output[0]\n",
    "loss "
   ]
  },
  {
   "cell_type": "markdown",
   "id": "c06bd9ae-6e25-4998-aaa9-436997c1df49",
   "metadata": {},
   "source": [
    "high loss means more wrong"
   ]
  },
  {
   "cell_type": "markdown",
   "id": "827bf759-0dc6-4c1b-8a02-ea44670035b3",
   "metadata": {},
   "source": [
    "### Neural Networks from Scratch - P.8 Implementing Loss\n",
    "\n"
   ]
  },
  {
   "cell_type": "code",
   "execution_count": 105,
   "id": "78aa994d-ddbc-482e-a668-88e6413d6a97",
   "metadata": {},
   "outputs": [
    {
     "data": {
      "text/plain": [
       "array([0.7, 0.5, 0.9])"
      ]
     },
     "execution_count": 105,
     "metadata": {},
     "output_type": "execute_result"
    }
   ],
   "source": [
    "softmax_outputs = np.array([[0.7,0.1,0.2],\n",
    "                          [0.1,0.5,0.4],\n",
    "                          [0.02,0.9,0.08]])\n",
    "class_targets = [0,1,1]\n",
    "softmax_outputs[[0,1,2],class_targets]"
   ]
  },
  {
   "cell_type": "code",
   "execution_count": 117,
   "id": "577ec250-49c5-47f7-b9fc-75ff98676fcc",
   "metadata": {},
   "outputs": [
    {
     "data": {
      "text/plain": [
       "0.38506088005216804"
      ]
     },
     "execution_count": 117,
     "metadata": {},
     "output_type": "execute_result"
    }
   ],
   "source": [
    "# neg_log = -np.log(softmax_outputs[\n",
    "#     range(len(softmax_outputs)),class_targets\n",
    "#                        ])\n",
    "\n",
    "# np.mean(neg_log)"
   ]
  },
  {
   "cell_type": "code",
   "execution_count": 132,
   "id": "856dc2d9-a9d0-4e6c-9cc2-499513bab049",
   "metadata": {},
   "outputs": [
    {
     "name": "stdout",
     "output_type": "stream",
     "text": [
      "[[0.33333334 0.33333334 0.33333334]\n",
      " [0.33331734 0.33331832 0.33336434]\n",
      " [0.3332888  0.33329153 0.33341965]\n",
      " [0.33325943 0.33326396 0.33347666]\n",
      " [0.33323312 0.33323926 0.33352762]]\n",
      "Loss: 1.098445\n"
     ]
    }
   ],
   "source": [
    "import nnfs\n",
    "from nnfs.datasets import spiral_data\n",
    "nnfs.init()\n",
    "\n",
    "class Layer_Dense:\n",
    "    def __init__(self, n_inputs, n_neurons):\n",
    "        self.weights = 0.10*np.random.randn(n_inputs,n_neurons)\n",
    "        self.biases = np.zeros((1, n_neurons))\n",
    "    def forward(self,inputs):\n",
    "        self.output = np.dot(inputs,self.weights) + self.biases\n",
    "        \n",
    "class Activation_ReLU:\n",
    "    def forward(self, inputs):\n",
    "        self.output = np.maximum(0,inputs)      \n",
    "        \n",
    "class Activation_Softmax:\n",
    "    def forward(self, inputs):\n",
    "        exp_values = np.exp(inputs - np.max(inputs,axis=1,keepdims=True))\n",
    "        probabilities = exp_values/np.sum(exp_values,axis=1,keepdims=True)\n",
    "        self.output = probabilities\n",
    "        \n",
    "class Loss:\n",
    "    def calculate(self,output,y):\n",
    "        sample_losses = self.forward(output,y)\n",
    "        data_loss = np.mean(sample_losses)\n",
    "        return data_loss\n",
    "        \n",
    "class Loss_CategoricalCrossEntropy(Loss):\n",
    "    def forward(self, y_pred, y_true):\n",
    "        samples = len(y_pred)\n",
    "        y_pred_clipped = np.clip(y_pred,1e-7,1-1e-7)\n",
    "        \n",
    "        if len(y_true.shape) == 1:\n",
    "            correct_confidences = y_pred_clipped[range(samples),y_true]\n",
    "\n",
    "        elif len(y_true.shape) == 2:\n",
    "            correct_confidences = np.sum(y_pred_clipped*y_true,axis=1)\n",
    "            \n",
    "        negative_log_likelihoods = -np.log(correct_confidences)\n",
    "        return negative_log_likelihoods\n",
    "        \n",
    "X,y = spiral_data(samples=100, classes=3)\n",
    "\n",
    "dense1 = Layer_Dense(2,3)\n",
    "activation1 = Activation_ReLU()\n",
    "\n",
    "dense2 = Layer_Dense(3,3)\n",
    "activation2 = Activation_Softmax()\n",
    "\n",
    "dense1.forward(X)\n",
    "activation1.forward(dense1.output)\n",
    "\n",
    "dense2.forward(activation1.output)\n",
    "activation2.forward(dense2.output)\n",
    "\n",
    "print(activation2.output[:5])\n",
    "loss_function = Loss_CategoricalCrossEntropy()\n",
    "loss = loss_function.calculate(activation2.output,y)\n",
    "print(\"Loss:\",loss)"
   ]
  },
  {
   "cell_type": "markdown",
   "id": "4fd54212-f9af-4bf7-bc1a-e563df37299f",
   "metadata": {},
   "source": [
    "### Neural Networks from Scratch - P.9 Introducing Optimization and derivatives\n"
   ]
  },
  {
   "cell_type": "code",
   "execution_count": null,
   "id": "8f8ab2e8-de2e-4f5c-aa73-4fbedf013569",
   "metadata": {},
   "outputs": [],
   "source": []
  }
 ],
 "metadata": {
  "kernelspec": {
   "display_name": "Python 3 (ipykernel)",
   "language": "python",
   "name": "python3"
  },
  "language_info": {
   "codemirror_mode": {
    "name": "ipython",
    "version": 3
   },
   "file_extension": ".py",
   "mimetype": "text/x-python",
   "name": "python",
   "nbconvert_exporter": "python",
   "pygments_lexer": "ipython3",
   "version": "3.10.8"
  }
 },
 "nbformat": 4,
 "nbformat_minor": 5
}
