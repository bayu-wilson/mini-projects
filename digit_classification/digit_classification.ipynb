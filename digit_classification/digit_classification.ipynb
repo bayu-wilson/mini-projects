{
 "cells": [
  {
   "cell_type": "code",
   "execution_count": 1,
   "id": "a33a5b17-a626-4112-89f0-53088689cbbd",
   "metadata": {},
   "outputs": [],
   "source": [
    "import pandas as pd\n",
    "import numpy as np\n",
    "from sklearn.model_selection import train_test_split\n",
    "from sklearn import svm,metrics\n",
    "from sklearn.datasets import load_digits\n"
   ]
  },
  {
   "cell_type": "code",
   "execution_count": 2,
   "id": "19578825-9d02-4ee4-809d-1b6f663b545f",
   "metadata": {},
   "outputs": [
    {
     "data": {
      "text/plain": [
       "<Figure size 432x288 with 0 Axes>"
      ]
     },
     "metadata": {},
     "output_type": "display_data"
    },
    {
     "data": {
      "image/png": "[encoded data removed]",
      "text/plain": [
       "<Figure size 288x288 with 1 Axes>"
      ]
     },
     "metadata": {
      "needs_background": "light"
     },
     "output_type": "display_data"
    }
   ],
   "source": [
    "digits = load_digits()\n",
    "# print(digits.data.shape)\n",
    "# (1797, 64)\n",
    "import matplotlib.pyplot as plt\n",
    "plt.gray()\n",
    "plt.matshow(digits.images[1])\n",
    "plt.show()"
   ]
  },
  {
   "cell_type": "code",
   "execution_count": 3,
   "id": "accc19a0-d7c2-44d9-bbde-5eff950d5953",
   "metadata": {},
   "outputs": [],
   "source": [
    "# Flatten the image\n",
    "n_samples = len(digits.images)\n",
    "data = digits.images.reshape((n_samples, -1))"
   ]
  },
  {
   "cell_type": "code",
   "execution_count": 4,
   "id": "e7b92056-9fe2-4dd9-b613-6b335b4df787",
   "metadata": {},
   "outputs": [],
   "source": [
    "# Create a classifier: a support vector classifier\n",
    "clf = svm.SVC(gamma=0.001)\n",
    "\n",
    "# Split data into 50% train and 50% test subsets\n",
    "X_train, X_test, y_train, y_test = train_test_split(\n",
    "    data, digits.target, test_size=0.3, shuffle=False\n",
    ")\n",
    "\n",
    "# Learn the digits on the train subset\n",
    "clf.fit(X_train, y_train)\n",
    "\n",
    "# Predict the value of the digit on the test subset\n",
    "predicted = clf.predict(X_test)"
   ]
  },
  {
   "cell_type": "code",
   "execution_count": 5,
   "id": "6963202b-0e2c-4b92-b859-f0e2da965ff0",
   "metadata": {},
   "outputs": [],
   "source": [
    "# predicted"
   ]
  },
  {
   "cell_type": "code",
   "execution_count": 6,
   "id": "c1f06cd9-9859-40f3-ae56-a2e9d21a4d89",
   "metadata": {},
   "outputs": [
    {
     "data": {
      "image/png": "[encoded data removed]",
      "text/plain": [
       "<Figure size 720x216 with 4 Axes>"
      ]
     },
     "metadata": {
      "needs_background": "light"
     },
     "output_type": "display_data"
    }
   ],
   "source": [
    "_, axes = plt.subplots(nrows=1, ncols=4, figsize=(10, 3))\n",
    "for ax in axes:\n",
    "    ax.set_axis_off()\n",
    "# for ax, image, prediction, actual in zip(axes, X_test, predicted,):\n",
    "#     ax.set_axis_off()\n",
    "\n",
    "begin=294\n",
    "for i,j in enumerate(range(begin,begin+4)):\n",
    "    image = X_test[j].reshape(8, 8)\n",
    "    axes[i].imshow(image, cmap=plt.cm.gray_r, interpolation=\"nearest\")\n",
    "    axes[i].set_title(f\"Prediction: {predicted[j]}\\nactual:{y_test[j]}\")"
   ]
  },
  {
   "cell_type": "code",
   "execution_count": 7,
   "id": "59cd50d8-20b9-4938-9c77-a57292d8bd42",
   "metadata": {},
   "outputs": [
    {
     "data": {
      "text/plain": [
       "(array([104, 107, 294, 296, 316, 345, 354, 371, 401, 403, 405, 433, 469,\n",
       "        470, 472, 508]),)"
      ]
     },
     "execution_count": 7,
     "metadata": {},
     "output_type": "execute_result"
    }
   ],
   "source": [
    "np.where(predicted!=y_test)"
   ]
  },
  {
   "cell_type": "code",
   "execution_count": 8,
   "id": "4435eebc-6434-4e4c-b2da-f68af82fe758",
   "metadata": {},
   "outputs": [
    {
     "name": "stdout",
     "output_type": "stream",
     "text": [
      "Classification report for classifier SVC(gamma=0.001):\n",
      "              precision    recall  f1-score   support\n",
      "\n",
      "           0       1.00      0.98      0.99        53\n",
      "           1       0.96      1.00      0.98        53\n",
      "           2       1.00      0.98      0.99        53\n",
      "           3       0.96      0.89      0.92        53\n",
      "           4       0.98      0.95      0.96        57\n",
      "           5       0.95      0.98      0.96        56\n",
      "           6       0.98      0.98      0.98        54\n",
      "           7       1.00      1.00      1.00        54\n",
      "           8       0.91      0.98      0.94        52\n",
      "           9       0.96      0.96      0.96        55\n",
      "\n",
      "    accuracy                           0.97       540\n",
      "   macro avg       0.97      0.97      0.97       540\n",
      "weighted avg       0.97      0.97      0.97       540\n",
      "\n",
      "\n"
     ]
    }
   ],
   "source": [
    "print(\n",
    "    f\"Classification report for classifier {clf}:\\n\"\n",
    "    f\"{metrics.classification_report(y_test, predicted)}\\n\"\n",
    ")"
   ]
  },
  {
   "cell_type": "code",
   "execution_count": null,
   "id": "65d1e5e5-4d37-4ff1-baaf-b6256abd9677",
   "metadata": {},
   "outputs": [],
   "source": []
  },
  {
   "cell_type": "code",
   "execution_count": null,
   "id": "46d7ffc8-09e3-4d42-8745-feb3e5f08c24",
   "metadata": {},
   "outputs": [],
   "source": []
  }
 ],
 "metadata": {
  "kernelspec": {
   "display_name": "Python 3 (ipykernel)",
   "language": "python",
   "name": "python3"
  },
  "language_info": {
   "codemirror_mode": {
    "name": "ipython",
    "version": 3
   },
   "file_extension": ".py",
   "mimetype": "text/x-python",
   "name": "python",
   "nbconvert_exporter": "python",
   "pygments_lexer": "ipython3",
   "version": "3.10.8"
  }
 },
 "nbformat": 4,
 "nbformat_minor": 5
}
